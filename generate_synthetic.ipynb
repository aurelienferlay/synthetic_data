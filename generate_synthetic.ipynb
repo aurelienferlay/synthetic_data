{
 "cells": [
  {
   "cell_type": "code",
   "execution_count": null,
   "id": "c97fc613",
   "metadata": {},
   "outputs": [],
   "source": [
    "import json\n",
    "import random\n",
    "import pandas as pd\n",
    "import google.generativeai as genai\n",
    "import time\n",
    "from constants import GEMINI_KEY\n",
    "\n",
    "# Configure Gemini\n",
    "genai.configure(api_key=GEMINI_KEY)\n",
    "model = genai.GenerativeModel(\"gemini-2.5-flash-preview-04-17\") "
   ]
  },
  {
   "cell_type": "code",
   "execution_count": null,
   "id": "d92e8463",
   "metadata": {},
   "outputs": [],
   "source": [
    "# Load data\n",
    "with open(\"res/patient_data.json\", \"r\", encoding=\"utf-8\") as f:\n",
    "    examples = json.load(f)\n",
    "\n",
    "icd_df = pd.read_csv(\"res/codes_icd_diagnosis.csv\")\n",
    "icd_codes = icd_df[\"icd_code\"].dropna().unique().tolist()\n",
    "\n",
    "PRIMARY_CODES = {\n",
    "    \"M1710\": \"Unilateral primary osteoarthritis, unspecified knee\",\n",
    "    \"M1711\": \"Unilateral primary osteoarthritis, right knee\",\n",
    "    \"M1712\": \"Unilateral primary osteoarthritis, left knee\"\n",
    "}"
   ]
  },
  {
   "cell_type": "code",
   "execution_count": null,
   "id": "3836a020",
   "metadata": {},
   "outputs": [],
   "source": [
    "# Generate one synthetic patient\n",
    "def generate_patient(primary_code: str, secondary_codes: list, base_example: dict) -> dict:\n",
    "    secondary_descriptions = [\n",
    "        icd_df.loc[icd_df[\"icd_code\"] == code, \"long_title\"].values[0]\n",
    "        for code in secondary_codes if code in icd_df[\"icd_code\"].values \n",
    "    ]\n",
    "\n",
    "    example_text = base_example.get(\"text\", \"\")\n",
    "\n",
    "    prompt = f\"\"\"\n",
    "You are a medical assistant. Generate a synthetic hospital discharge summary in English.\n",
    "\n",
    "Please follow these guidelines:\n",
    "- Do **not** include any real or fictional names of patients, doctors, hospitals, or specific locations.\n",
    "- Ensure the summary is **fully anonymous**, using placeholders such as \"Mr. ___\", \"Dr. ___\", or \"the patient\".\n",
    "- The content must be **original**, realistic, and **not copied** or paraphrased directly from the example.\n",
    "- Ensure medical consistency with the diagnoses provided.\n",
    "- Add variety in phrasing, structure, and style to avoid duplication across examples.\n",
    "\n",
    "You may use this example as inspiration (but do not copy it):\n",
    "---\n",
    "{example_text}\n",
    "---\n",
    "\n",
    "Generate a **new** discharge summary. The patient has the following diagnoses:\n",
    "\n",
    "Primary ICD code: {primary_code} = {PRIMARY_CODES[primary_code]}\n",
    "Secondary ICD codes:\n",
    "{chr(10).join([f\"- {code}: {desc}\" for code, desc in zip(secondary_codes, secondary_descriptions)])}\n",
    "\n",
    "Return only the generated discharge summary.\n",
    "\"\"\"\n",
    "\n",
    "    response = model.generate_content(prompt)\n",
    "    return {\n",
    "        \"discharge_summary\": response.text.strip(),\n",
    "        \"primary_icd_code\": primary_code,\n",
    "        \"secondary_icd_codes\": \";\".join(secondary_codes)\n",
    "    }"
   ]
  },
  {
   "cell_type": "code",
   "execution_count": null,
   "id": "344d6a52",
   "metadata": {},
   "outputs": [
    {
     "name": "stdout",
     "output_type": "stream",
     "text": [
      "Successfully generated 100 synthetic patients.\n"
     ]
    }
   ],
   "source": [
    "# Generate N synthetic patients\n",
    "synthetic_patients = []\n",
    "n_patients = 100  # number of synthetic patients\n",
    "\n",
    "for _ in range(n_patients):\n",
    "    primary = random.choice(list(PRIMARY_CODES.keys()))\n",
    "    secondary = random.sample(icd_codes, k=random.randint(1, 3))\n",
    "    example = random.choice(examples)\n",
    "\n",
    "    try:\n",
    "        patient = generate_patient(primary, secondary, example)\n",
    "        synthetic_patients.append(patient)\n",
    "    except Exception as e:\n",
    "        print(f\"Error generating patient: {e}\")\n",
    "    time.sleep(10)  # ⏱️ Delay of 10 seconds between each request due to limitation (gemini free version)\n",
    "\n",
    "\n",
    "# Save to CSV\n",
    "\n",
    "df = pd.DataFrame(synthetic_patients)\n",
    "df.to_csv(\"results/synthetic_dataset_gemini.csv\", index=False, encoding=\"utf-8\")\n",
    "print(f\"Successfully generated {len(df)} synthetic patients.\")\n"
   ]
  }
 ],
 "metadata": {
  "kernelspec": {
   "display_name": "Python 3",
   "language": "python",
   "name": "python3"
  },
  "language_info": {
   "codemirror_mode": {
    "name": "ipython",
    "version": 3
   },
   "file_extension": ".py",
   "mimetype": "text/x-python",
   "name": "python",
   "nbconvert_exporter": "python",
   "pygments_lexer": "ipython3",
   "version": "3.11.10"
  }
 },
 "nbformat": 4,
 "nbformat_minor": 5
}
